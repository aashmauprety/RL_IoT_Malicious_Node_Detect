{
  "nbformat": 4,
  "nbformat_minor": 0,
  "metadata": {
    "colab": {
      "name": "RL_IoT_Malicious(Final).ipynb",
      "provenance": [],
      "collapsed_sections": []
    },
    "kernelspec": {
      "name": "python3",
      "display_name": "Python 3"
    },
    "language_info": {
      "name": "python"
    }
  },
  "cells": [
    {
      "cell_type": "code",
      "metadata": {
        "id": "MClmnNw5h6Tp"
      },
      "source": [
        "!pip install keras-rl2\n",
        "!pip install keras\n",
        "!pip install tensorflow==2.3.0\n",
        "!pip install gym"
      ],
      "execution_count": null,
      "outputs": []
    },
    {
      "cell_type": "code",
      "metadata": {
        "id": "Cx8bKta1i_jh"
      },
      "source": [
        "# import env class from gym to create custom environment\n",
        "from gym import Env\n",
        "\n",
        "# import two spaces from gym, allow us to define state and actions\n",
        "from gym.spaces import Discrete, Box  \n",
        "import numpy as np \n",
        "import pandas as pd\n",
        "import random"
      ],
      "execution_count": 3,
      "outputs": []
    },
    {
      "cell_type": "code",
      "metadata": {
        "colab": {
          "base_uri": "https://localhost:8080/"
        },
        "id": "84KtvQ9WjHA_",
        "outputId": "14423ee9-b039-4201-8421-2a52bbe5c24b"
      },
      "source": [
        "from google.colab import drive\n",
        "drive.mount(\"/content/drive\")"
      ],
      "execution_count": 4,
      "outputs": [
        {
          "output_type": "stream",
          "name": "stdout",
          "text": [
            "Mounted at /content/drive\n"
          ]
        }
      ]
    },
    {
      "cell_type": "markdown",
      "metadata": {
        "id": "eCidYGAnjV62"
      },
      "source": [
        "Read Dataset"
      ]
    },
    {
      "cell_type": "code",
      "metadata": {
        "id": "9kbcC3CmjQUc"
      },
      "source": [
        "data = pd.read_csv(\"/content/drive/My Drive/sample_data.csv\")\n",
        "weight = pd.DataFrame(data)"
      ],
      "execution_count": 5,
      "outputs": []
    },
    {
      "cell_type": "markdown",
      "metadata": {
        "id": "VlHYjjA_jfEm"
      },
      "source": [
        "Simulate index for two malicious and three non-malicious clients"
      ]
    },
    {
      "cell_type": "code",
      "metadata": {
        "id": "KhY_N9vejZfW"
      },
      "source": [
        "malicious_index = [0,1]\n",
        "non_malicious_index = [2,3,4]"
      ],
      "execution_count": 6,
      "outputs": []
    },
    {
      "cell_type": "markdown",
      "metadata": {
        "id": "cdfre1DNjqRx"
      },
      "source": [
        "Define state, action and reward for RL agent"
      ]
    },
    {
      "cell_type": "code",
      "metadata": {
        "id": "t8m4QRu2jYPg"
      },
      "source": [
        "class findmeEnv(Env):\n",
        "    STATE_ELEMENTS = 5\n",
        "\n",
        "    def __init__(self, weight):\n",
        "        self.weight = weight\n",
        "        self.action_space = Discrete(5)\n",
        "        self.observation_space = Box(low=0, high=2, shape=(findmeEnv.STATE_ELEMENTS,)) #10 comm.round, 5 clients\n",
        "        self.state = self.weight.iloc[0:1].values\n",
        "        self.state1 = self.weight.iloc[0:1]\n",
        "        self.length = 100\n",
        "\n",
        "\n",
        "\n",
        "    def step(self,action):\n",
        "        if action==0:   #reward for this action is +2\n",
        "            a = random.choice(malicious_index)\n",
        "            self.state1.iloc[:,a].replace([self.state1.iloc[:,a]],0,inplace=True)\n",
        "            \n",
        "        if action==1: #reward for this action is -10\n",
        "            b = random.choice(non_malicious_index)\n",
        "            self.state1.iloc[:,b].replace([self.state1.iloc[:,b]],0,inplace=True)\n",
        "  \n",
        "\n",
        "        if action==2: #reward is +5\n",
        "            self.state1.iloc[:,0].replace([self.state1.iloc[:,0]],0,inplace=True)\n",
        "            self.state1.iloc[:,1].replace([self.state1.iloc[:,1]],0,inplace=True)\n",
        "            \n",
        "\n",
        "        if action==3: #reward is +1\n",
        "            x = random.choice(malicious_index)\n",
        "            y = random.choice(non_malicious_index)\n",
        "            self.state1.iloc[:,x].replace([self.state1.iloc[:,x]],0,inplace=True)\n",
        "            self.state1.iloc[:,y].replace([self.state1.iloc[:,y]],0,inplace=True)\n",
        "            \n",
        "\n",
        "\n",
        "        if action==4: #reward is -15\n",
        "            self.state1.iloc[:,2].replace([self.state1.iloc[:,2]],0,inplace=True)\n",
        "            self.state1.iloc[:,3].replace([self.state1.iloc[:,3]],0,inplace=True)\n",
        "            self.state1.iloc[:,4].replace([self.state1.iloc[:,4]],0,inplace=True)\n",
        "\n",
        "        self.length -= 1\n",
        "\n",
        "\n",
        "        # Defind reward value \n",
        "        if action==0:\n",
        "            reward = 2\n",
        "        if action==1:\n",
        "            reward = -10\n",
        "        if action == 2:\n",
        "            reward = 5\n",
        "        if action==3:\n",
        "            reward = 1\n",
        "        if action==4:\n",
        "            reward = -15\n",
        "\n",
        "\n",
        "        if self.length <= 0: \n",
        "            done = True\n",
        "        else:\n",
        "            done = False\n",
        "\n",
        "        info = {}\n",
        "        return self.state, reward, done, info\n",
        "\n",
        "    def reset(self):\n",
        "        self.state = self.weight.sample().reset_index(drop = True).values\n",
        "        self.state = np.squeeze(self.state, axis=0)\n",
        "        self.length = 100\n",
        "        return self.state\n",
        "        "
      ],
      "execution_count": 7,
      "outputs": []
    },
    {
      "cell_type": "markdown",
      "metadata": {
        "id": "zIL6Ok39kiIZ"
      },
      "source": [
        "Instantiate the RL environment "
      ]
    },
    {
      "cell_type": "code",
      "metadata": {
        "id": "0L2D2pSKkWlJ"
      },
      "source": [
        "env = findmeEnv(weight)\n",
        "# obs = env.reset()\n",
        "# print(obs.shape)"
      ],
      "execution_count": 8,
      "outputs": []
    },
    {
      "cell_type": "markdown",
      "metadata": {
        "id": "MDjOQ5N9ko24"
      },
      "source": [
        "Get shape of state and action"
      ]
    },
    {
      "cell_type": "code",
      "metadata": {
        "colab": {
          "base_uri": "https://localhost:8080/"
        },
        "id": "we3tt6hFkk2P",
        "outputId": "cb0ceda0-fea0-416e-fa19-642b9d23f2ad"
      },
      "source": [
        "states = env.observation_space.shape \n",
        "actions = env.action_space.n \n",
        "actions \n",
        "states"
      ],
      "execution_count": 9,
      "outputs": [
        {
          "output_type": "execute_result",
          "data": {
            "text/plain": [
              "(5,)"
            ]
          },
          "metadata": {},
          "execution_count": 9
        }
      ]
    },
    {
      "cell_type": "markdown",
      "metadata": {
        "id": "EbT9HJ8Aky9U"
      },
      "source": [
        "**CREATE A DEEP LEARNING MODEL WITH KERAS**\n"
      ]
    },
    {
      "cell_type": "code",
      "metadata": {
        "id": "x7Gx290HkxDq"
      },
      "source": [
        "import tensorflow\n",
        "from tensorflow.keras.models import Sequential\n",
        "from tensorflow.keras.layers import Dense, Flatten\n",
        "from tensorflow.keras.optimizers import Adam\n",
        "# from tensorflow.keras.callbacks import TensorBoard\n",
        "import numpy as np\n",
        "import random \n",
        "import time"
      ],
      "execution_count": 19,
      "outputs": []
    },
    {
      "cell_type": "markdown",
      "metadata": {
        "id": "Slk46ofKlCxi"
      },
      "source": [
        "**Define model architecture**"
      ]
    },
    {
      "cell_type": "code",
      "metadata": {
        "id": "bbe5meKZkuCj"
      },
      "source": [
        "def build_model(states,actions):\n",
        "    model = Sequential()\n",
        "    model.add(Dense(64, activation='relu', input_shape = (1,5)))\n",
        "    model.add(Dense(64, activation='relu'))\n",
        "    model.add(Dense(actions, activation='linear'))\n",
        "    model.add(Flatten())\n",
        "    return model"
      ],
      "execution_count": 20,
      "outputs": []
    },
    {
      "cell_type": "code",
      "metadata": {
        "id": "41-32L0rlGUg"
      },
      "source": [
        "model = build_model(states,actions)\n",
        "model.summary()"
      ],
      "execution_count": null,
      "outputs": []
    },
    {
      "cell_type": "markdown",
      "metadata": {
        "id": "1isINoMhlQXi"
      },
      "source": [
        "**Define DQN Agent and train it on the env**"
      ]
    },
    {
      "cell_type": "code",
      "metadata": {
        "id": "k9Ylg5z8lKO9"
      },
      "source": [
        "from rl.agents import DQNAgent\n",
        "from rl.policy import BoltzmannQPolicy\n",
        "from rl.memory import SequentialMemory\n",
        "from rl.callbacks import ModelIntervalCheckpoint, FileLogger\n",
        "\n",
        "\n",
        "def build_agent(model, actions):\n",
        "  policy = BoltzmannQPolicy()\n",
        "  memory = SequentialMemory(limit=50000, window_length = 1)\n",
        "  dqn = DQNAgent(model = model, memory = memory, policy=policy, nb_actions=actions, nb_steps_warmup = 10, target_model_update = 1e-2)\n",
        "  return dqn\n"
      ],
      "execution_count": 65,
      "outputs": []
    },
    {
      "cell_type": "markdown",
      "metadata": {
        "id": "TR6667_wlqQl"
      },
      "source": [
        "**Start training the agent on the given environment**"
      ]
    },
    {
      "cell_type": "code",
      "metadata": {
        "id": "wXNGnzilyVaz"
      },
      "source": [
        "ENV_NAME = 'RL_IoT-v1'"
      ],
      "execution_count": 66,
      "outputs": []
    },
    {
      "cell_type": "code",
      "metadata": {
        "id": "VrEVA-TSzRst"
      },
      "source": [
        "def build_callbacks(ENV_NAME):\n",
        "    checkpoint_weights_filename = 'dqn_' + ENV_NAME + '_weights_{step}.h5f'\n",
        "    log_filename = 'dqn_{}_log.json'.format(ENV_NAME)\n",
        "    callbacks = [ModelIntervalCheckpoint(checkpoint_weights_filename, interval=250000)]\n",
        "    callbacks += [FileLogger(log_filename, interval=100)]\n",
        "    return callbacks"
      ],
      "execution_count": 67,
      "outputs": []
    },
    {
      "cell_type": "code",
      "metadata": {
        "id": "IXvpzxe-0Ptd"
      },
      "source": [
        "policy = BoltzmannQPolicy()\n",
        "memory = SequentialMemory(limit=50000, window_length = 1)\n",
        "dqn = DQNAgent(model=model, nb_actions=actions, policy=policy, memory=memory, nb_steps_warmup=50000, gamma=.99, target_model_update=10000,\n",
        "                   train_interval=4, delta_clip=1.)\n",
        "dqn.compile(Adam(lr=.00025), metrics=['mae'])\n",
        "callbacks = build_callbacks(ENV_NAME)"
      ],
      "execution_count": 72,
      "outputs": []
    },
    {
      "cell_type": "code",
      "metadata": {
        "colab": {
          "base_uri": "https://localhost:8080/"
        },
        "id": "9scLj8ot0tlN",
        "outputId": "5c3a4ff9-3bdb-490d-8f5d-123ce087d96e"
      },
      "source": [
        "dqn.fit(env, nb_steps=100)"
      ],
      "execution_count": 76,
      "outputs": [
        {
          "output_type": "stream",
          "name": "stdout",
          "text": [
            "Training for 100 steps ...\n",
            "Interval 1 (0 steps performed)\n",
            "   94/10000 [..............................] - ETA: 22s - reward: 4.2979done, took 0.234 seconds\n"
          ]
        },
        {
          "output_type": "execute_result",
          "data": {
            "text/plain": [
              "<tensorflow.python.keras.callbacks.History at 0x7f6b3821af10>"
            ]
          },
          "metadata": {},
          "execution_count": 76
        }
      ]
    },
    {
      "cell_type": "code",
      "metadata": {
        "id": "hQsHj35MlbW8"
      },
      "source": [
        "dqn = build_agent(model, actions)\n",
        "dqn.compile(Adam(learning_rate=1e-3), metrics=['mae'])\n",
        "callbacks = build_callbacks(ENV_NAME)\n",
        "dqn.fit(env, nb_steps=2000, visualize=False,verbose=2, callbacks=callbacks)\n",
        "dqn.save_weights('dqn_{}_weights.h5f'.format(ENV_NAME), overwrite=True)"
      ],
      "execution_count": null,
      "outputs": []
    },
    {
      "cell_type": "code",
      "metadata": {
        "id": "VtjM4Hjlv5ev"
      },
      "source": [
        "# dqn.load_weights(\"/content/drive/MyDrive/Colab Notebooks/RL_IoT_FL/dqn.h5f.data-00000-of-00001.h5f\")"
      ],
      "execution_count": null,
      "outputs": []
    },
    {
      "cell_type": "code",
      "metadata": {
        "id": "b3PVIQTQludG"
      },
      "source": [
        "scores = dqn.test(env, nb_episodes=100, visualize=False)\n",
        "print(np.mean(scores.history['episode_reward']))"
      ],
      "execution_count": null,
      "outputs": []
    },
    {
      "cell_type": "markdown",
      "metadata": {
        "id": "J5LtCmCsrAZp"
      },
      "source": [
        "**Predict using model**"
      ]
    },
    {
      "cell_type": "code",
      "metadata": {
        "id": "b2PaHRve4IT2"
      },
      "source": [
        "# df = pd.read_json(\"/content/dqn_RL_IoT-v1_log.json\")\n",
        "# # csvdata = df.to_csv()\n",
        "# # cs = pd.DataFrame(csvdata)\n",
        "# episode = df.loc[:,'episode']\n",
        "# mean_reward = df.loc[:,'episode_reward']\n",
        "# mean_reward\n",
        "# episode\n",
        "# df"
      ],
      "execution_count": null,
      "outputs": []
    },
    {
      "cell_type": "code",
      "metadata": {
        "colab": {
          "base_uri": "https://localhost:8080/",
          "height": 279
        },
        "id": "k7mHB_Xo6XFG",
        "outputId": "feab4ef6-c913-4f0e-d765-a0a4f3fbf99f"
      },
      "source": [
        "# import matplotlib.pyplot as plt\n",
        "# plt.plot(episode,mean_reward)\n",
        "# plt.xlabel('episode')\n",
        "# plt.ylabel('reward')\n",
        "# plt.show()"
      ],
      "execution_count": 106,
      "outputs": [
        {
          "output_type": "display_data",
          "data": {
            "image/png": "[encoded data removed]",
            "text/plain": [
              "<Figure size 432x288 with 1 Axes>"
            ]
          },
          "metadata": {
            "needs_background": "light"
          }
        }
      ]
    }
  ]
}